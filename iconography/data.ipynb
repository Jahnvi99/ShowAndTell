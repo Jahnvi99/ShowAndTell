{
 "cells": [
  {
   "cell_type": "code",
   "execution_count": null,
   "metadata": {},
   "outputs": [],
   "source": [
    "import pandas as pd\n",
    "df = pd.read_csv('icon_dataset/data.csv')\n",
    "df.dropna(inplace = True)"
   ]
  },
  {
   "cell_type": "code",
   "execution_count": null,
   "metadata": {},
   "outputs": [],
   "source": [
    "all_images = df[['image']].drop_duplicates()\n",
    "val_and_test = all_images.sample(n=400)\n",
    "training=all_images[~all_images.isin(val_and_test)].dropna()\n",
    "training.to_csv('./datasets/iconography_text/icon.trainImages.txt', header=False, index=False, mode='a')"
   ]
  },
  {
   "cell_type": "code",
   "execution_count": null,
   "metadata": {},
   "outputs": [],
   "source": [
    "test = val_and_test.sample(n=200)\n",
    "val=val_and_test[~val_and_test.isin(test)].dropna()\n",
    "test.to_csv('./datasets/iconography_text/icon.testImages.txt', header=False, index=False, mode='a')\n",
    "val.to_csv('./datasets/iconography_text/icon.devImages.txt', header=False, index=False, mode='a')\n",
    "df1 = df[['image','description']].drop_duplicates()\n",
    "df1.to_csv('./datasets/iconography_text/icon.token.txt', header=False, index=False, sep='\\t', mode='a')"
   ]
  }
 ],
 "metadata": {
  "kernelspec": {
   "display_name": "fau",
   "language": "python",
   "name": "fau"
  },
  "language_info": {
   "codemirror_mode": {
    "name": "ipython",
    "version": 3
   },
   "file_extension": ".py",
   "mimetype": "text/x-python",
   "name": "python",
   "nbconvert_exporter": "python",
   "pygments_lexer": "ipython3",
   "version": "3.6.8"
  }
 },
 "nbformat": 4,
 "nbformat_minor": 4
}
