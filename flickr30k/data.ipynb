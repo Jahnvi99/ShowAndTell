{
 "cells": [
  {
   "cell_type": "code",
   "execution_count": null,
   "metadata": {},
   "outputs": [],
   "source": [
    "import pandas as pd\n",
    "df = pd.read_csv('datasets/results.csv',sep = '|')\n",
    "df.head()"
   ]
  },
  {
   "cell_type": "code",
   "execution_count": null,
   "metadata": {},
   "outputs": [],
   "source": [
    "df1 = pd.DataFrame()\n",
    "df1['image'] = df['image_name'].str.cat(df.iloc[:,1]) \n",
    "df1 = df1.replace(' ', '#',regex = True)\n",
    "df1['comment'] = df.iloc[:,2]"
   ]
  },
  {
   "cell_type": "code",
   "execution_count": null,
   "metadata": {},
   "outputs": [],
   "source": [
    "df1.to_csv('./datasets/Flickr30k_text/Flickr30k.token.txt', header=False, index=False, sep='\\t', mode='a')"
   ]
  },
  {
   "cell_type": "code",
   "execution_count": null,
   "metadata": {},
   "outputs": [],
   "source": [
    "all_images = df[['image_name']].drop_duplicates()"
   ]
  },
  {
   "cell_type": "code",
   "execution_count": null,
   "metadata": {},
   "outputs": [],
   "source": [
    "val_and_test = all_images.sample(n=2000)\n",
    "training=all_images[~all_images.isin(val_and_test)].dropna()"
   ]
  },
  {
   "cell_type": "code",
   "execution_count": null,
   "metadata": {},
   "outputs": [],
   "source": [
    "training.to_csv('./datasets.Flickr30k_text/Flickr30k.trainImages.txt', header=False, index=False, mode='a')\n",
    "test = val_and_test.sample(n=1000)"
   ]
  },
  {
   "cell_type": "code",
   "execution_count": null,
   "metadata": {},
   "outputs": [],
   "source": [
    "val=val_and_test[~val_and_test.isin(test)].dropna()\n",
    "test.to_csv('./datasets/Flickr30k_text/Flickr30k.testImages.txt', header=False, index=False, mode='a')\n",
    "val.to_csv('./datasets/Flickr30k_text/Flickr30k.devImages.txt', header=False, index=False, mode='a')"
   ]
  }
 ],
 "metadata": {
  "kernelspec": {
   "display_name": "fau",
   "language": "python",
   "name": "fau"
  },
  "language_info": {
   "codemirror_mode": {
    "name": "ipython",
    "version": 3
   },
   "file_extension": ".py",
   "mimetype": "text/x-python",
   "name": "python",
   "nbconvert_exporter": "python",
   "pygments_lexer": "ipython3",
   "version": "3.6.8"
  }
 },
 "nbformat": 4,
 "nbformat_minor": 4
}
